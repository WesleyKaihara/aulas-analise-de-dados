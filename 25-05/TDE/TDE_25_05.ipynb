{
  "nbformat": 4,
  "nbformat_minor": 0,
  "metadata": {
    "colab": {
      "provenance": []
    },
    "kernelspec": {
      "name": "python3",
      "display_name": "Python 3"
    },
    "language_info": {
      "name": "python"
    }
  },
  "cells": [
    {
      "cell_type": "code",
      "execution_count": 56,
      "metadata": {
        "id": "hdJ05plfniPQ"
      },
      "outputs": [],
      "source": [
        "import pandas as pd\n",
        "import numpy as np"
      ]
    },
    {
      "cell_type": "code",
      "source": [
        "df = pd.read_csv('natacao.csv')"
      ],
      "metadata": {
        "id": "FGc8Dg02pB-W"
      },
      "execution_count": null,
      "outputs": []
    },
    {
      "cell_type": "code",
      "source": [
        "df"
      ],
      "metadata": {
        "colab": {
          "base_uri": "https://localhost:8080/",
          "height": 424
        },
        "id": "zNY6gr3NpEh1",
        "outputId": "5eccfabc-46bd-4a53-9af0-f61ef8ca8e6c"
      },
      "execution_count": 104,
      "outputs": [
        {
          "output_type": "execute_result",
          "data": {
            "text/plain": [
              "           Sede   Ano Distancia  Estilo  Revesamento?     Genero Equipe  \\\n",
              "0         Tokyo  2020       100  Costas             0  Masculino    ROC   \n",
              "1         Tokyo  2020       100  Costas             0  Masculino    ROC   \n",
              "2         Tokyo  2020       100  Costas             0  Masculino    USA   \n",
              "3         Tokyo  2020       100  Costas             0  Masculino    ITA   \n",
              "4         Tokyo  2020       100  Costas             0  Masculino    CHN   \n",
              "...         ...   ...       ...     ...           ...        ...    ...   \n",
              "4354  Stockholm  1912       800   Livre             1   Feminino    SWE   \n",
              "4355  Stockholm  1912       800   Livre             1  Masculino    AUS   \n",
              "4356  Stockholm  1912       800   Livre             1  Masculino    USA   \n",
              "4357  Stockholm  1912       800   Livre             1  Masculino    GBR   \n",
              "4358  Stockholm  1912       800   Livre             1  Masculino    GER   \n",
              "\n",
              "                                                 Atleta            Tempo  \\\n",
              "0                                          Evgeny Rylov            51.98   \n",
              "1                                    Kliment Kolesnikov               52   \n",
              "2                                           Ryan Murphy            52.19   \n",
              "3                                         Thomas Ceccon             52.3   \n",
              "4                                              Jiayu Xu            52.51   \n",
              "...                                                 ...              ...   \n",
              "4354  Greta Carlsson, Vera Thulin, Sonja Johnsson, G...              NaN   \n",
              "4355  Malcolm Champion, Cecil Healy, Harold H. Hardw...  00:10:11.200000   \n",
              "4356  Duke Paoa Kahanamoku, Harry J. Hebner, Perry M...  00:10:20.200000   \n",
              "4357  Thomas Sidney Battersby, Henry Taylor, John Ga...  00:10:28.600000   \n",
              "4358  Georg Kunisch, Kurt Bretting, Oscar Schiele, M...  00:10:37.000000   \n",
              "\n",
              "      Posicao  \n",
              "0           1  \n",
              "1           2  \n",
              "2           3  \n",
              "3           4  \n",
              "4           4  \n",
              "...       ...  \n",
              "4354        5  \n",
              "4355        1  \n",
              "4356        2  \n",
              "4357        3  \n",
              "4358        4  \n",
              "\n",
              "[4359 rows x 10 columns]"
            ],
            "text/html": [
              "\n",
              "  <div id=\"df-139ed794-2dc2-430e-ab82-f7417c3eb472\">\n",
              "    <div class=\"colab-df-container\">\n",
              "      <div>\n",
              "<style scoped>\n",
              "    .dataframe tbody tr th:only-of-type {\n",
              "        vertical-align: middle;\n",
              "    }\n",
              "\n",
              "    .dataframe tbody tr th {\n",
              "        vertical-align: top;\n",
              "    }\n",
              "\n",
              "    .dataframe thead th {\n",
              "        text-align: right;\n",
              "    }\n",
              "</style>\n",
              "<table border=\"1\" class=\"dataframe\">\n",
              "  <thead>\n",
              "    <tr style=\"text-align: right;\">\n",
              "      <th></th>\n",
              "      <th>Sede</th>\n",
              "      <th>Ano</th>\n",
              "      <th>Distancia</th>\n",
              "      <th>Estilo</th>\n",
              "      <th>Revesamento?</th>\n",
              "      <th>Genero</th>\n",
              "      <th>Equipe</th>\n",
              "      <th>Atleta</th>\n",
              "      <th>Tempo</th>\n",
              "      <th>Posicao</th>\n",
              "    </tr>\n",
              "  </thead>\n",
              "  <tbody>\n",
              "    <tr>\n",
              "      <th>0</th>\n",
              "      <td>Tokyo</td>\n",
              "      <td>2020</td>\n",
              "      <td>100</td>\n",
              "      <td>Costas</td>\n",
              "      <td>0</td>\n",
              "      <td>Masculino</td>\n",
              "      <td>ROC</td>\n",
              "      <td>Evgeny Rylov</td>\n",
              "      <td>51.98</td>\n",
              "      <td>1</td>\n",
              "    </tr>\n",
              "    <tr>\n",
              "      <th>1</th>\n",
              "      <td>Tokyo</td>\n",
              "      <td>2020</td>\n",
              "      <td>100</td>\n",
              "      <td>Costas</td>\n",
              "      <td>0</td>\n",
              "      <td>Masculino</td>\n",
              "      <td>ROC</td>\n",
              "      <td>Kliment Kolesnikov</td>\n",
              "      <td>52</td>\n",
              "      <td>2</td>\n",
              "    </tr>\n",
              "    <tr>\n",
              "      <th>2</th>\n",
              "      <td>Tokyo</td>\n",
              "      <td>2020</td>\n",
              "      <td>100</td>\n",
              "      <td>Costas</td>\n",
              "      <td>0</td>\n",
              "      <td>Masculino</td>\n",
              "      <td>USA</td>\n",
              "      <td>Ryan Murphy</td>\n",
              "      <td>52.19</td>\n",
              "      <td>3</td>\n",
              "    </tr>\n",
              "    <tr>\n",
              "      <th>3</th>\n",
              "      <td>Tokyo</td>\n",
              "      <td>2020</td>\n",
              "      <td>100</td>\n",
              "      <td>Costas</td>\n",
              "      <td>0</td>\n",
              "      <td>Masculino</td>\n",
              "      <td>ITA</td>\n",
              "      <td>Thomas Ceccon</td>\n",
              "      <td>52.3</td>\n",
              "      <td>4</td>\n",
              "    </tr>\n",
              "    <tr>\n",
              "      <th>4</th>\n",
              "      <td>Tokyo</td>\n",
              "      <td>2020</td>\n",
              "      <td>100</td>\n",
              "      <td>Costas</td>\n",
              "      <td>0</td>\n",
              "      <td>Masculino</td>\n",
              "      <td>CHN</td>\n",
              "      <td>Jiayu Xu</td>\n",
              "      <td>52.51</td>\n",
              "      <td>4</td>\n",
              "    </tr>\n",
              "    <tr>\n",
              "      <th>...</th>\n",
              "      <td>...</td>\n",
              "      <td>...</td>\n",
              "      <td>...</td>\n",
              "      <td>...</td>\n",
              "      <td>...</td>\n",
              "      <td>...</td>\n",
              "      <td>...</td>\n",
              "      <td>...</td>\n",
              "      <td>...</td>\n",
              "      <td>...</td>\n",
              "    </tr>\n",
              "    <tr>\n",
              "      <th>4354</th>\n",
              "      <td>Stockholm</td>\n",
              "      <td>1912</td>\n",
              "      <td>800</td>\n",
              "      <td>Livre</td>\n",
              "      <td>1</td>\n",
              "      <td>Feminino</td>\n",
              "      <td>SWE</td>\n",
              "      <td>Greta Carlsson, Vera Thulin, Sonja Johnsson, G...</td>\n",
              "      <td>NaN</td>\n",
              "      <td>5</td>\n",
              "    </tr>\n",
              "    <tr>\n",
              "      <th>4355</th>\n",
              "      <td>Stockholm</td>\n",
              "      <td>1912</td>\n",
              "      <td>800</td>\n",
              "      <td>Livre</td>\n",
              "      <td>1</td>\n",
              "      <td>Masculino</td>\n",
              "      <td>AUS</td>\n",
              "      <td>Malcolm Champion, Cecil Healy, Harold H. Hardw...</td>\n",
              "      <td>00:10:11.200000</td>\n",
              "      <td>1</td>\n",
              "    </tr>\n",
              "    <tr>\n",
              "      <th>4356</th>\n",
              "      <td>Stockholm</td>\n",
              "      <td>1912</td>\n",
              "      <td>800</td>\n",
              "      <td>Livre</td>\n",
              "      <td>1</td>\n",
              "      <td>Masculino</td>\n",
              "      <td>USA</td>\n",
              "      <td>Duke Paoa Kahanamoku, Harry J. Hebner, Perry M...</td>\n",
              "      <td>00:10:20.200000</td>\n",
              "      <td>2</td>\n",
              "    </tr>\n",
              "    <tr>\n",
              "      <th>4357</th>\n",
              "      <td>Stockholm</td>\n",
              "      <td>1912</td>\n",
              "      <td>800</td>\n",
              "      <td>Livre</td>\n",
              "      <td>1</td>\n",
              "      <td>Masculino</td>\n",
              "      <td>GBR</td>\n",
              "      <td>Thomas Sidney Battersby, Henry Taylor, John Ga...</td>\n",
              "      <td>00:10:28.600000</td>\n",
              "      <td>3</td>\n",
              "    </tr>\n",
              "    <tr>\n",
              "      <th>4358</th>\n",
              "      <td>Stockholm</td>\n",
              "      <td>1912</td>\n",
              "      <td>800</td>\n",
              "      <td>Livre</td>\n",
              "      <td>1</td>\n",
              "      <td>Masculino</td>\n",
              "      <td>GER</td>\n",
              "      <td>Georg Kunisch, Kurt Bretting, Oscar Schiele, M...</td>\n",
              "      <td>00:10:37.000000</td>\n",
              "      <td>4</td>\n",
              "    </tr>\n",
              "  </tbody>\n",
              "</table>\n",
              "<p>4359 rows × 10 columns</p>\n",
              "</div>\n",
              "      <button class=\"colab-df-convert\" onclick=\"convertToInteractive('df-139ed794-2dc2-430e-ab82-f7417c3eb472')\"\n",
              "              title=\"Convert this dataframe to an interactive table.\"\n",
              "              style=\"display:none;\">\n",
              "        \n",
              "  <svg xmlns=\"http://www.w3.org/2000/svg\" height=\"24px\"viewBox=\"0 0 24 24\"\n",
              "       width=\"24px\">\n",
              "    <path d=\"M0 0h24v24H0V0z\" fill=\"none\"/>\n",
              "    <path d=\"M18.56 5.44l.94 2.06.94-2.06 2.06-.94-2.06-.94-.94-2.06-.94 2.06-2.06.94zm-11 1L8.5 8.5l.94-2.06 2.06-.94-2.06-.94L8.5 2.5l-.94 2.06-2.06.94zm10 10l.94 2.06.94-2.06 2.06-.94-2.06-.94-.94-2.06-.94 2.06-2.06.94z\"/><path d=\"M17.41 7.96l-1.37-1.37c-.4-.4-.92-.59-1.43-.59-.52 0-1.04.2-1.43.59L10.3 9.45l-7.72 7.72c-.78.78-.78 2.05 0 2.83L4 21.41c.39.39.9.59 1.41.59.51 0 1.02-.2 1.41-.59l7.78-7.78 2.81-2.81c.8-.78.8-2.07 0-2.86zM5.41 20L4 18.59l7.72-7.72 1.47 1.35L5.41 20z\"/>\n",
              "  </svg>\n",
              "      </button>\n",
              "      \n",
              "  <style>\n",
              "    .colab-df-container {\n",
              "      display:flex;\n",
              "      flex-wrap:wrap;\n",
              "      gap: 12px;\n",
              "    }\n",
              "\n",
              "    .colab-df-convert {\n",
              "      background-color: #E8F0FE;\n",
              "      border: none;\n",
              "      border-radius: 50%;\n",
              "      cursor: pointer;\n",
              "      display: none;\n",
              "      fill: #1967D2;\n",
              "      height: 32px;\n",
              "      padding: 0 0 0 0;\n",
              "      width: 32px;\n",
              "    }\n",
              "\n",
              "    .colab-df-convert:hover {\n",
              "      background-color: #E2EBFA;\n",
              "      box-shadow: 0px 1px 2px rgba(60, 64, 67, 0.3), 0px 1px 3px 1px rgba(60, 64, 67, 0.15);\n",
              "      fill: #174EA6;\n",
              "    }\n",
              "\n",
              "    [theme=dark] .colab-df-convert {\n",
              "      background-color: #3B4455;\n",
              "      fill: #D2E3FC;\n",
              "    }\n",
              "\n",
              "    [theme=dark] .colab-df-convert:hover {\n",
              "      background-color: #434B5C;\n",
              "      box-shadow: 0px 1px 3px 1px rgba(0, 0, 0, 0.15);\n",
              "      filter: drop-shadow(0px 1px 2px rgba(0, 0, 0, 0.3));\n",
              "      fill: #FFFFFF;\n",
              "    }\n",
              "  </style>\n",
              "\n",
              "      <script>\n",
              "        const buttonEl =\n",
              "          document.querySelector('#df-139ed794-2dc2-430e-ab82-f7417c3eb472 button.colab-df-convert');\n",
              "        buttonEl.style.display =\n",
              "          google.colab.kernel.accessAllowed ? 'block' : 'none';\n",
              "\n",
              "        async function convertToInteractive(key) {\n",
              "          const element = document.querySelector('#df-139ed794-2dc2-430e-ab82-f7417c3eb472');\n",
              "          const dataTable =\n",
              "            await google.colab.kernel.invokeFunction('convertToInteractive',\n",
              "                                                     [key], {});\n",
              "          if (!dataTable) return;\n",
              "\n",
              "          const docLinkHtml = 'Like what you see? Visit the ' +\n",
              "            '<a target=\"_blank\" href=https://colab.research.google.com/notebooks/data_table.ipynb>data table notebook</a>'\n",
              "            + ' to learn more about interactive tables.';\n",
              "          element.innerHTML = '';\n",
              "          dataTable['output_type'] = 'display_data';\n",
              "          await google.colab.output.renderOutput(dataTable, element);\n",
              "          const docLink = document.createElement('div');\n",
              "          docLink.innerHTML = docLinkHtml;\n",
              "          element.appendChild(docLink);\n",
              "        }\n",
              "      </script>\n",
              "    </div>\n",
              "  </div>\n",
              "  "
            ]
          },
          "metadata": {},
          "execution_count": 104
        }
      ]
    },
    {
      "cell_type": "code",
      "source": [
        "df.info()"
      ],
      "metadata": {
        "colab": {
          "base_uri": "https://localhost:8080/"
        },
        "id": "gZg1J22MpG_y",
        "outputId": "655a8adc-c09a-4b1d-9551-50bf361de56a"
      },
      "execution_count": null,
      "outputs": [
        {
          "output_type": "stream",
          "name": "stdout",
          "text": [
            "<class 'pandas.core.frame.DataFrame'>\n",
            "RangeIndex: 4359 entries, 0 to 4358\n",
            "Data columns (total 10 columns):\n",
            " #   Column        Non-Null Count  Dtype \n",
            "---  ------        --------------  ----- \n",
            " 0   Sede          4359 non-null   object\n",
            " 1   Ano           4359 non-null   int64 \n",
            " 2   Distancia     4359 non-null   object\n",
            " 3   Estilo        4359 non-null   object\n",
            " 4   Revesamento?  4359 non-null   int64 \n",
            " 5   Genero        4359 non-null   object\n",
            " 6   Equipe        4359 non-null   object\n",
            " 7   Atleta        4345 non-null   object\n",
            " 8   Tempo         4331 non-null   object\n",
            " 9   Posicao       4359 non-null   int64 \n",
            "dtypes: int64(3), object(7)\n",
            "memory usage: 340.7+ KB\n"
          ]
        }
      ]
    },
    {
      "cell_type": "markdown",
      "source": [
        "**1 - Identifique e responda, qual a variável estatística representada em cada coluna do dataframe?**"
      ],
      "metadata": {
        "id": "BoTdQ6mJpZ_i"
      }
    },
    {
      "cell_type": "markdown",
      "source": [
        "Sede: Qualitativa - Categórica\n",
        "\n",
        "Ano: Quantitativa - Discreta\n",
        "\n",
        "Distancia: Quantitativa - Continua\n",
        "\n",
        "Estilo: Qualitativa - Categórica\n",
        "\n",
        "Revesamento: Qualitativa - Categórica\n",
        "\n",
        "Genero: Qualitativa - Categórica\n",
        "\n",
        "Equipe: Qualitativa - Categórica\n",
        "\n",
        "Atleta: Qualitativa - Categórica\n",
        "\n",
        "Tempo: Quantitativa - Continua\n",
        "\n",
        "Posicao: Quantitativa - Discreta\n"
      ],
      "metadata": {
        "id": "lllhdJh0pg44"
      }
    },
    {
      "cell_type": "markdown",
      "source": [
        "**2 - Identifique e responda, qual a medida de resumo mais adequada para cada variável numérica? justifique cada uma delas.**"
      ],
      "metadata": {
        "id": "41VWSUJhri32"
      }
    },
    {
      "cell_type": "markdown",
      "source": [
        "Ano: Medida de Dispersão. Com a variavel de ano é possivel visualizar as oscilações ocorridas ao longo do tempo.\n",
        "\n",
        "Distancia: Medida de dispersão. Esta variavel pode ser utilizada em conjunto com outras variaveis para observar desvios e padrões.\n",
        "\n",
        "Tempo: Medidas de posição. A partir dessa variavel é possivel obter valores relevantes como a média de tempo que os atletas utilizam para concluir um prova, encontrar valores de referecia como a mediana e moda.\n",
        "\n",
        "Posicao: Medida de dispersão. Com a posição é possivel identificar informações relevantes em conjunto com outras propriedades, como encontrar a média de posições de uma equipe ao longo do tempo e quais atletas se classificam melhor.\n",
        "\n"
      ],
      "metadata": {
        "id": "CECYOfovrkt8"
      }
    },
    {
      "cell_type": "markdown",
      "source": [
        "**3 - Qual atleta teve o maior número de participações em provas masculinas?**"
      ],
      "metadata": {
        "id": "NZgFDH-brtxl"
      }
    },
    {
      "cell_type": "code",
      "source": [
        "df.loc[df['Genero'] == 'Masculino','Atleta'].value_counts().idxmax()"
      ],
      "metadata": {
        "colab": {
          "base_uri": "https://localhost:8080/",
          "height": 35
        },
        "id": "KqOjmUjAtthX",
        "outputId": "a92081c8-cbd1-40fc-9a3b-cad075121cae"
      },
      "execution_count": null,
      "outputs": [
        {
          "output_type": "execute_result",
          "data": {
            "text/plain": [
              "'Michael Phelps'"
            ],
            "application/vnd.google.colaboratory.intrinsic+json": {
              "type": "string"
            }
          },
          "metadata": {},
          "execution_count": 21
        }
      ]
    },
    {
      "cell_type": "markdown",
      "source": [
        "**4 - Qual atleta teve o maior número de participações em provas femininas?**"
      ],
      "metadata": {
        "id": "Xbzhmr7RvD47"
      }
    },
    {
      "cell_type": "code",
      "source": [
        "df.loc[df['Genero'] == 'Feminino', 'Atleta'].value_counts().idxmax()"
      ],
      "metadata": {
        "colab": {
          "base_uri": "https://localhost:8080/",
          "height": 35
        },
        "outputId": "6aea970e-3ce1-45f3-8466-90f919f8e5d3",
        "id": "aevR5AOVus0g"
      },
      "execution_count": null,
      "outputs": [
        {
          "output_type": "execute_result",
          "data": {
            "text/plain": [
              "'Kirsty Leigh Coventry'"
            ],
            "application/vnd.google.colaboratory.intrinsic+json": {
              "type": "string"
            }
          },
          "metadata": {},
          "execution_count": 20
        }
      ]
    },
    {
      "cell_type": "markdown",
      "source": [
        "**5 - Qual pais conquistou o maior número de medalhas de bronze?**"
      ],
      "metadata": {
        "id": "XPnQIt3lwQjf"
      }
    },
    {
      "cell_type": "code",
      "source": [
        "df.loc[df['Posicao'] == 3,'Equipe'].value_counts().idxmax()"
      ],
      "metadata": {
        "colab": {
          "base_uri": "https://localhost:8080/",
          "height": 35
        },
        "id": "DdbK7RVtwUos",
        "outputId": "5469d6e6-ec69-4558-c827-2931f79a4a36"
      },
      "execution_count": null,
      "outputs": [
        {
          "output_type": "execute_result",
          "data": {
            "text/plain": [
              "'USA'"
            ],
            "application/vnd.google.colaboratory.intrinsic+json": {
              "type": "string"
            }
          },
          "metadata": {},
          "execution_count": 31
        }
      ]
    },
    {
      "cell_type": "markdown",
      "source": [
        "**6 - Qual é a distância média das provas de natação? Você precisará converter string para int64 para realizar este cálculo. (Atenção para as provas de revezamento, que deverão ter sua distância multiplicada. ex: 4X100 Livre, a distância da prova deve ser de 400).**"
      ],
      "metadata": {
        "id": "RtT1DkcyxNEq"
      }
    },
    {
      "cell_type": "code",
      "source": [
        "# df['Distancia'].str.replace(\"m\",\"\").str.split(\"x\")\n",
        "df.loc[df['Distancia'] == '4x100','Distancia'] = '800'\n",
        "df.loc[df['Distancia'] == '4x200','Distancia'] = '800'\n",
        "df['Distancia'].str.replace(\"m\",\"\")"
      ],
      "metadata": {
        "id": "LHnQ_AnrxRW5",
        "colab": {
          "base_uri": "https://localhost:8080/"
        },
        "outputId": "5a68f929-2b77-4d98-8401-880cf9c22ead"
      },
      "execution_count": 109,
      "outputs": [
        {
          "output_type": "execute_result",
          "data": {
            "text/plain": [
              "0       100\n",
              "1       100\n",
              "2       100\n",
              "3       100\n",
              "4       100\n",
              "       ... \n",
              "4354    800\n",
              "4355    800\n",
              "4356    800\n",
              "4357    800\n",
              "4358    800\n",
              "Name: Distancia, Length: 4359, dtype: object"
            ]
          },
          "metadata": {},
          "execution_count": 109
        }
      ]
    },
    {
      "cell_type": "code",
      "source": [
        "df['Distancia'].value_counts()"
      ],
      "metadata": {
        "colab": {
          "base_uri": "https://localhost:8080/"
        },
        "id": "wIhhHGj0Y3Oz",
        "outputId": "bf845913-697e-4e14-c652-27151fc5ca1e"
      },
      "execution_count": 110,
      "outputs": [
        {
          "output_type": "execute_result",
          "data": {
            "text/plain": [
              "200m     1280\n",
              "100      1235\n",
              "800       740\n",
              "400m      634\n",
              "1500m     206\n",
              "50m       144\n",
              "800m      120\n",
              "Name: Distancia, dtype: int64"
            ]
          },
          "metadata": {},
          "execution_count": 110
        }
      ]
    },
    {
      "cell_type": "code",
      "source": [
        "df['Distancia'].astype('int64')"
      ],
      "metadata": {
        "id": "ndLBiNR8gorU"
      },
      "execution_count": null,
      "outputs": []
    },
    {
      "cell_type": "markdown",
      "source": [
        "**7 - Crie um nova coluna chamada \"ClassificacaoDistancia\", provas de até 200m serão classificadas como \"Curta\", provas entre 201m e 600m serão classificadas como \"Média\" e provas com mais de 600m serão classificadas como \"Longa\".**"
      ],
      "metadata": {
        "id": "MEbGMYYix0MB"
      }
    },
    {
      "cell_type": "code",
      "source": [],
      "metadata": {
        "id": "8p_h1SPGx2U5"
      },
      "execution_count": null,
      "outputs": []
    },
    {
      "cell_type": "markdown",
      "source": [
        "**8 - Considerando os dados dos tempos das provas de 100m livre na natação ao longo dos Jogos Olímpicos, analise o gráfico de linha abaixo, que apresenta os tempos das provas masculinas e femininas ao longo dos anos:**\n",
        "\n",
        "![Screenshot from 2023-05-25 18-21-16.png](data:image/png;base64,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)"
      ],
      "metadata": {
        "id": "pveMX5llyFWU"
      }
    },
    {
      "cell_type": "markdown",
      "source": [
        "**Com base em suas observações responda, quais conclusões você consegue afirmar com o gráfico acima, utilize o dataframe disponibilizado para enriquecer sua análise. Apresente ao menos dois argumentos para cada afirmação.**"
      ],
      "metadata": {
        "id": "WBIIpsBSyhz0"
      }
    },
    {
      "cell_type": "markdown",
      "source": [],
      "metadata": {
        "id": "YpgFLsUUynLa"
      }
    }
  ]
}